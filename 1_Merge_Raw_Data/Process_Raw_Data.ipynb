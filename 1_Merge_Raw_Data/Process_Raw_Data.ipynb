{
 "cells": [
  {
   "cell_type": "code",
   "execution_count": 19,
   "metadata": {},
   "outputs": [],
   "source": [
    "import pandas as pd"
   ]
  },
  {
   "cell_type": "code",
   "execution_count": 20,
   "metadata": {},
   "outputs": [],
   "source": [
    "# Read price and dividends data into dfs and parse date columns as pandas datetime dtypes\n",
    "spy_price_data = pd.read_csv(r'..\\0_Raw_Data\\SPY_price_history.csv', parse_dates = ['Date'])\n",
    "spy_dividend_data = pd.read_csv(r'..\\0_Raw_Data\\SPY_dividends_history.csv', parse_dates = ['Pay Date'])"
   ]
  },
  {
   "cell_type": "code",
   "execution_count": 21,
   "metadata": {},
   "outputs": [],
   "source": [
    "# Left join dfs on Date and Pay Date\n",
    "merged_raw_data = spy_price_data.merge(spy_dividend_data, how='left', left_on=['Date'], right_on = ['Pay Date'])"
   ]
  },
  {
   "cell_type": "code",
   "execution_count": 22,
   "metadata": {},
   "outputs": [],
   "source": [
    "# Drop rows in df that contain leap days of February 29. If we don't these will cause errors in the get_yield function below\n",
    "merged_raw_data = merged_raw_data[~((merged_raw_data['Date'].dt.month == 2) & (merged_raw_data['Date'].dt.day ==29))]"
   ]
  },
  {
   "cell_type": "code",
   "execution_count": 23,
   "metadata": {},
   "outputs": [],
   "source": [
    "# Convert 'Date' col from pandas datetime type to just a simple date using <dt.date> method\n",
    "merged_raw_data['Date'] = pd.to_datetime(merged_raw_data['Date']).dt.date"
   ]
  },
  {
   "cell_type": "code",
   "execution_count": 24,
   "metadata": {},
   "outputs": [],
   "source": [
    "# Write Lump Sum Investing (LSI) function -lsi_get_yield- to calculate yield of principal invested over a delta time horizon\n",
    "# where the principal is invested in its entirity at the start of the delta time horizon\n",
    "\n",
    "def lsi_get_yield(current_date, dataframe, price_col, delta):\n",
    "    \"\"\"\n",
    "    current_date: column name of date data (str)\n",
    "    dataframe: dataframe name (df)\n",
    "    price_col: column name of price data (str)\n",
    "    delta: investment delta in years (int)\n",
    "    \"\"\"\n",
    "    current_price = dataframe.loc[dataframe['Date'] == current_date, price_col]\n",
    "    current_price = current_price.reset_index()\n",
    "    \n",
    "    past_date = current_date - pd.Timedelta(days=delta*365)\n",
    "    past_price = dataframe.loc[dataframe[\"Date\"] == past_date, price_col]\n",
    "    past_price = past_price.reset_index()\n",
    "\n",
    "    return (current_price/past_price)[price_col].values[0]"
   ]
  },
  {
   "cell_type": "code",
   "execution_count": 25,
   "metadata": {},
   "outputs": [],
   "source": [
    "# Pass the f\n",
    "merged_raw_data['Yield'] = merged_raw_data.apply(lambda row: lsi_get_yield(row['Date'], dataframe=merged_raw_data, price_col='Close', delta=5), axis=1, result_type='expand')"
   ]
  },
  {
   "cell_type": "code",
   "execution_count": 26,
   "metadata": {},
   "outputs": [
    {
     "name": "stderr",
     "output_type": "stream",
     "text": [
      "<ipython-input-26-c65b4dfb2a9b>:4: FutureWarning: The pandas.datetime class is deprecated and will be removed from pandas in a future version. Import from datetime module instead.\n",
      "  def dca_get_yield(start_date: pd.datetime, end_date: pd.datetime, period_size: pd.Timedelta, inv_per_period: float):\n"
     ]
    }
   ],
   "source": [
    "# Write Dollar Cost Averaging (DCA) function to calculate yield of a principal invested over a delta time horizon\n",
    "# where the principal is invested piecemeal at evenly seperated intervals over the length of the full delta time horizon\n",
    "\n",
    "# Currently were using native type hints but I'd like to migrate to \n",
    "def dca_get_yield(start_date: pd.datetime, end_date: pd.datetime, period_size: pd.Timedelta, inv_per_period: float):\n",
    "    assert end_date - start_date > period_size, 'Please reconsider your life choices, programmatically this behavior is moronical'\n",
    "    \n",
    "    investment_times = pd.date_range(start_date, end_date, period_size) # pd.date_range is like linspace for dates\n",
    "    yield_percs = [get_yield(end_date, dataframe, column, price_col, delta) for delta in investment_times]\n",
    "    total = sum([inv_per_period * perc for perc in yield_percs])\n",
    "    return total"
   ]
  },
  {
   "cell_type": "code",
   "execution_count": null,
   "metadata": {},
   "outputs": [],
   "source": []
  }
 ],
 "metadata": {
  "interpreter": {
   "hash": "ad2bdc8ecc057115af97d19610ffacc2b4e99fae6737bb82f5d7fb13d2f2c186"
  },
  "kernelspec": {
   "display_name": "Python 3.8.8 ('base')",
   "language": "python",
   "name": "python3"
  },
  "language_info": {
   "codemirror_mode": {
    "name": "ipython",
    "version": 3
   },
   "file_extension": ".py",
   "mimetype": "text/x-python",
   "name": "python",
   "nbconvert_exporter": "python",
   "pygments_lexer": "ipython3",
   "version": "3.8.8"
  }
 },
 "nbformat": 4,
 "nbformat_minor": 4
}
