{
 "cells": [
  {
   "cell_type": "code",
   "execution_count": 15,
   "metadata": {},
   "outputs": [],
   "source": [
    "import pandas as pd"
   ]
  },
  {
   "cell_type": "code",
   "execution_count": 16,
   "metadata": {},
   "outputs": [],
   "source": [
    "# Read price and dividends data into dfs and parse date columns as pandas datetime dtypes\n",
    "spy_price_data = pd.read_csv(r'C:\\Users\\David\\Documents\\Personal\\Python Projects\\spy_analysis\\0_Raw_Data\\SPY_price_history.csv', parse_dates = ['Date'])\n",
    "spy_dividend_data = pd.read_csv(r'C:\\Users\\David\\Documents\\Personal\\Python Projects\\spy_analysis\\0_Raw_Data\\SPY_dividends_history.csv', parse_dates = ['Pay Date'])"
   ]
  },
  {
   "cell_type": "code",
   "execution_count": 17,
   "metadata": {},
   "outputs": [],
   "source": [
    "# Left join dfs on Date and Pay Date\n",
    "merged_raw_data = spy_price_data.merge(spy_dividend_data, how='left', left_on=['Date'], right_on = ['Pay Date'])"
   ]
  },
  {
   "cell_type": "code",
   "execution_count": 18,
   "metadata": {},
   "outputs": [],
   "source": [
    "# Drop rows in df that contain leap days of February 29. If we don't these will cause errors in the get_growth function below\n",
    "merged_raw_data = merged_raw_data[~((merged_raw_data['Date'].dt.month == 2) & (merged_raw_data['Date'].dt.day ==29))]"
   ]
  },
  {
   "cell_type": "code",
   "execution_count": 19,
   "metadata": {},
   "outputs": [],
   "source": [
    "# Convert 'Date' col from pandas datetime type to just a simple date using <dt.date> method\n",
    "merged_raw_data['Date'] = pd.to_datetime(merged_raw_data['Date']).dt.date"
   ]
  },
  {
   "cell_type": "code",
   "execution_count": 20,
   "metadata": {},
   "outputs": [],
   "source": [
    "# Write function to retrieve change in share value over n-year intervals\n",
    "def get_growth(current_date, dataframe, columns, years=5): \n",
    "\n",
    "    current_price = dataframe.loc[dataframe['Date'] == current_date, columns]\n",
    "    current_price = current_price.reset_index()\n",
    "    \n",
    "    past_date = current_date.replace(year=current_date.year-years)\n",
    "    past_price = dataframe.loc[dataframe[\"Date\"] == past_date, columns]\n",
    "    past_price = past_price.reset_index()\n",
    "\n",
    "    return (current_price - past_price)[columns].values[0]"
   ]
  },
  {
   "cell_type": "code",
   "execution_count": 21,
   "metadata": {},
   "outputs": [],
   "source": [
    "merged_raw_data[\"Absolute_Growth\"] = merged_raw_data.apply(lambda row: get_growth(row[\"Date\"], merged_raw_data, \"Close\"), axis=1, result_type=\"expand\")"
   ]
  },
  {
   "cell_type": "code",
   "execution_count": null,
   "metadata": {},
   "outputs": [],
   "source": [
    "# Need to create a column for \"Percentage Yield\" which calculates the "
   ]
  },
  {
   "cell_type": "code",
   "execution_count": 44,
   "metadata": {},
   "outputs": [],
   "source": [
    "# References\n",
    "### https://stackoverflow.com/questions/33518124/how-to-apply-a-function-on-every-row-on-a-dataframe\n",
    "### https://stackoverflow.com/questions/69715314/make-difference-between-a-value-given-a-date-and-value-of-one-year-before-in-a-d"
   ]
  }
 ],
 "metadata": {
  "interpreter": {
   "hash": "b3ba2566441a7c06988d0923437866b63cedc61552a5af99d1f4fb67d367b25f"
  },
  "kernelspec": {
   "display_name": "Python 3.8.8 ('base')",
   "language": "python",
   "name": "python3"
  },
  "language_info": {
   "codemirror_mode": {
    "name": "ipython",
    "version": 3
   },
   "file_extension": ".py",
   "mimetype": "text/x-python",
   "name": "python",
   "nbconvert_exporter": "python",
   "pygments_lexer": "ipython3",
   "version": "3.8.8"
  },
  "orig_nbformat": 4
 },
 "nbformat": 4,
 "nbformat_minor": 2
}
