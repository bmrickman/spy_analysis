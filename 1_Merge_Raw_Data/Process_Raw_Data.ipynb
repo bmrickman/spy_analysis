{
 "cells": [
  {
   "cell_type": "code",
   "execution_count": 20,
   "metadata": {},
   "outputs": [],
   "source": [
    "import pandas as pd"
   ]
  },
  {
   "cell_type": "code",
   "execution_count": 30,
   "metadata": {},
   "outputs": [],
   "source": [
    "# Read price and dividends data into dfs and parse date columns as pandas datetime dtypes\n",
    "spy_price_data = pd.read_csv(r'C:\\Users\\David\\Documents\\Personal\\Python Projects\\spy_analysis\\0_Raw_Data\\SPY_price_history.csv', parse_dates = ['Date'])\n",
    "spy_dividend_data = pd.read_csv(r'C:\\Users\\David\\Documents\\Personal\\Python Projects\\spy_analysis\\0_Raw_Data\\SPY_dividends_history.csv', parse_dates = ['Pay Date'])"
   ]
  },
  {
   "cell_type": "code",
   "execution_count": 31,
   "metadata": {},
   "outputs": [],
   "source": [
    "# Left join dfs on common date index\n",
    "merged_raw_data = spy_price_data.merge(spy_dividend_data, how='left', left_on=['Date'], right_on = ['Pay Date'])"
   ]
  },
  {
   "cell_type": "code",
   "execution_count": 32,
   "metadata": {},
   "outputs": [],
   "source": [
    "# Write to .csv\n",
    "merged_raw_data.to_csv(r'C:\\Users\\David\\Documents\\Personal\\Python Projects\\spy_analysis\\2_Merged_Raw_Data_Output\\merged_raw_data.csv')"
   ]
  },
  {
   "cell_type": "code",
   "execution_count": 37,
   "metadata": {},
   "outputs": [],
   "source": [
    "# \n",
    "merged_raw_data['Date2'] = merged_raw_data['Date'] - pd.offsets.DateOffset(years=1)\n"
   ]
  },
  {
   "cell_type": "code",
   "execution_count": null,
   "metadata": {},
   "outputs": [],
   "source": [
    "# Index the share price from a year before the given date\n",
    "# "
   ]
  },
  {
   "cell_type": "code",
   "execution_count": null,
   "metadata": {},
   "outputs": [],
   "source": [
    "current_values = merged_raw_data.loc[merged_raw_data[\"Date2\"] == current_date, columns]"
   ]
  },
  {
   "cell_type": "code",
   "execution_count": null,
   "metadata": {},
   "outputs": [],
   "source": [
    "def get_growth(current_date, dataframe, columns, years=1):\n",
    "\n",
    "    current_values = dataframe.loc[dataframe[\"DATE\"] == current_date, columns]\n",
    "    current_values = current_values.reset_index()\n",
    "\n",
    "    past_date = current_date.replace(year=current_date.year-years)\n",
    "    past_values = dataframe.loc[dataframe[\"DATE\"] == past_date, columns]\n",
    "    past_values = past_values.reset_index()\n",
    "\n",
    "    return (current_values - past_values)[columns].values[0]"
   ]
  }
 ],
 "metadata": {
  "interpreter": {
   "hash": "b3ba2566441a7c06988d0923437866b63cedc61552a5af99d1f4fb67d367b25f"
  },
  "kernelspec": {
   "display_name": "Python 3.8.8 ('base')",
   "language": "python",
   "name": "python3"
  },
  "language_info": {
   "codemirror_mode": {
    "name": "ipython",
    "version": 3
   },
   "file_extension": ".py",
   "mimetype": "text/x-python",
   "name": "python",
   "nbconvert_exporter": "python",
   "pygments_lexer": "ipython3",
   "version": "3.8.8"
  },
  "orig_nbformat": 4
 },
 "nbformat": 4,
 "nbformat_minor": 2
}
