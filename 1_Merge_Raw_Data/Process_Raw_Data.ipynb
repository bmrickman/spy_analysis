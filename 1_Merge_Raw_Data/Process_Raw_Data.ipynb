{
 "cells": [
  {
   "cell_type": "code",
   "execution_count": 13,
   "metadata": {},
   "outputs": [],
   "source": [
    "#Start script\n",
    "import pandas as pd"
   ]
  },
  {
   "cell_type": "code",
   "execution_count": 14,
   "metadata": {},
   "outputs": [],
   "source": [
    "#Read price and dividends data into dfs and parse date columns as pandas datetime dtypes\n",
    "spy_price_data = pd.read_csv(r'C:\\Users\\David\\Documents\\Personal\\Python Projects\\spy_analysis\\0_Raw_Data\\SPY_price_history.csv', parse_dates=['Date'])\n",
    "spy_dividend_data = pd.read_csv(r'C:\\Users\\David\\Documents\\Personal\\Python Projects\\spy_analysis\\0_Raw_Data\\SPY_dividends_history.csv', parse_dates=['Declare Date', 'Ex-Div Date', 'Record Date','Pay Date'])"
   ]
  },
  {
   "cell_type": "code",
   "execution_count": 15,
   "metadata": {},
   "outputs": [],
   "source": [
    "merged_raw_data = spy_price_data.merge(spy_dividend_data, left_on='Date', how='left',right_on='Pay Date')"
   ]
  },
  {
   "cell_type": "code",
   "execution_count": 16,
   "metadata": {},
   "outputs": [],
   "source": [
    "merged_raw_data.to_csv(r'C:\\Users\\David\\Documents\\Personal\\Python Projects\\spy_analysis\\2_Merged_Raw_Data_Output\\merged_raw_data.csv')"
   ]
  }
 ],
 "metadata": {
  "interpreter": {
   "hash": "b3ba2566441a7c06988d0923437866b63cedc61552a5af99d1f4fb67d367b25f"
  },
  "kernelspec": {
   "display_name": "Python 3.8.8 ('base')",
   "language": "python",
   "name": "python3"
  },
  "language_info": {
   "codemirror_mode": {
    "name": "ipython",
    "version": 3
   },
   "file_extension": ".py",
   "mimetype": "text/x-python",
   "name": "python",
   "nbconvert_exporter": "python",
   "pygments_lexer": "ipython3",
   "version": "3.8.8"
  },
  "orig_nbformat": 4
 },
 "nbformat": 4,
 "nbformat_minor": 2
}
